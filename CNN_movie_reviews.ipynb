{
  "cells": [
    {
      "cell_type": "markdown",
      "metadata": {
        "id": "EMp9rs6ELFir"
      },
      "source": [
        " 1. Download and Extract the Dataset\n",
        "\n",
        "\n"
      ]
    },
    {
      "cell_type": "code",
      "execution_count": null,
      "metadata": {
        "colab": {
          "base_uri": "https://localhost:8080/"
        },
        "collapsed": true,
        "id": "5GFmMNWCFKiX",
        "outputId": "7b598abf-e71d-4b29-da83-243db8a08087"
      },
      "outputs": [
        {
          "output_type": "stream",
          "name": "stdout",
          "text": [
            "--2025-05-21 14:05:43--  https://ai.stanford.edu/~amaas/data/sentiment/aclImdb_v1.tar.gz\n",
            "Resolving ai.stanford.edu (ai.stanford.edu)... 171.64.68.10\n",
            "Connecting to ai.stanford.edu (ai.stanford.edu)|171.64.68.10|:443... connected.\n",
            "HTTP request sent, awaiting response... 200 OK\n",
            "Length: 84125825 (80M) [application/x-gzip]\n",
            "Saving to: ‘aclImdb_v1.tar.gz.4’\n",
            "\n",
            "aclImdb_v1.tar.gz.4 100%[===================>]  80.23M  14.4MB/s    in 9.6s    \n",
            "\n",
            "2025-05-21 14:05:53 (8.32 MB/s) - ‘aclImdb_v1.tar.gz.4’ saved [84125825/84125825]\n",
            "\n"
          ]
        }
      ],
      "source": [
        "!wget https://ai.stanford.edu/~amaas/data/sentiment/aclImdb_v1.tar.gz # Download the IMDB movie reviews dataset\n",
        "!tar -xzf aclImdb_v1.tar.gz # Extract the contents of the compressed file\n"
      ]
    },
    {
      "cell_type": "markdown",
      "metadata": {
        "id": "wJocgJXuLTv1"
      },
      "source": [
        " 2. Load and Preprocess the Data"
      ]
    },
    {
      "cell_type": "code",
      "execution_count": null,
      "metadata": {
        "id": "pR0t0uXYFNU3"
      },
      "outputs": [],
      "source": [
        "import os\n",
        "from sklearn.utils import shuffle  # used to shuffle the data randomly\n",
        "\n",
        "# Function to load text and labels from a given directory\n",
        "def load_imdb_data(data_dir):\n",
        "    texts, labels = [], []\n",
        "    for label_type in ['pos', 'neg']:  # loop through positive and negative folders\n",
        "        dir_name = os.path.join(data_dir, label_type)\n",
        "        for fname in os.listdir(dir_name):  # loop through each file in the folder\n",
        "            if fname.endswith('.txt'):\n",
        "                with open(os.path.join(dir_name, fname), encoding='utf-8') as f:\n",
        "                    texts.append(f.read())\n",
        "                labels.append(1 if label_type == 'pos' else 0)  # label: 1 for pos, 0 for neg\n",
        "    return texts, labels\n",
        "\n",
        "# Load training and test data\n",
        "train_texts, train_labels = load_imdb_data('aclImdb/train')\n",
        "test_texts, test_labels = load_imdb_data('aclImdb/test')\n",
        "\n",
        "# Shuffle the data to avoid any order bias\n",
        "train_texts, train_labels = shuffle(train_texts, train_labels, random_state=42)\n",
        "test_texts, test_labels = shuffle(test_texts, test_labels, random_state=42)\n"
      ]
    },
    {
      "cell_type": "markdown",
      "metadata": {
        "id": "Z0lNYX-FLimZ"
      },
      "source": [
        "3. Text Preprocessing"
      ]
    },
    {
      "cell_type": "code",
      "execution_count": null,
      "metadata": {
        "id": "SvL6jCZpFVK-"
      },
      "outputs": [],
      "source": [
        "from tensorflow.keras.preprocessing.text import Tokenizer\n",
        "from tensorflow.keras.preprocessing.sequence import pad_sequences\n",
        "import numpy as np\n",
        "\n",
        "# Parameters\n",
        "max_words = 10000 # maximum number of words to keep based on frequency.\n",
        "maxlen = 500 # ensures that all input sequences are of the same fixed length (500 tokens).\n",
        "\n",
        "# Tokenize\n",
        "tokenizer = Tokenizer(num_words=max_words)\n",
        "tokenizer.fit_on_texts(train_texts)\n",
        "\n",
        "# Convert texts to sequences of integers (word indices)\n",
        "x_train = tokenizer.texts_to_sequences(train_texts)\n",
        "x_test = tokenizer.texts_to_sequences(test_texts)\n",
        "\n",
        "# Pad sequences to ensure uniform input length for the model\n",
        "x_train = pad_sequences(x_train, maxlen=maxlen)\n",
        "x_test = pad_sequences(x_test, maxlen=maxlen)\n",
        "\n",
        "# Convert labels to NumPy arrays for training\n",
        "y_train = np.array(train_labels)\n",
        "y_test = np.array(test_labels)\n"
      ]
    },
    {
      "cell_type": "markdown",
      "metadata": {
        "id": "kFiD4STBMPXj"
      },
      "source": [
        " 4. Build the CNN Model"
      ]
    },
    {
      "cell_type": "code",
      "execution_count": null,
      "metadata": {
        "colab": {
          "base_uri": "https://localhost:8080/",
          "height": 404
        },
        "id": "7F2R-P8eFck2",
        "outputId": "f41567b8-d65b-4a4b-d486-8fa888401e82"
      },
      "outputs": [
        {
          "output_type": "stream",
          "name": "stderr",
          "text": [
            "/usr/local/lib/python3.11/dist-packages/keras/src/layers/core/embedding.py:90: UserWarning: Argument `input_length` is deprecated. Just remove it.\n",
            "  warnings.warn(\n"
          ]
        },
        {
          "output_type": "display_data",
          "data": {
            "text/plain": [
              "\u001b[1mModel: \"sequential\"\u001b[0m\n"
            ],
            "text/html": [
              "<pre style=\"white-space:pre;overflow-x:auto;line-height:normal;font-family:Menlo,'DejaVu Sans Mono',consolas,'Courier New',monospace\"><span style=\"font-weight: bold\">Model: \"sequential\"</span>\n",
              "</pre>\n"
            ]
          },
          "metadata": {}
        },
        {
          "output_type": "display_data",
          "data": {
            "text/plain": [
              "┏━━━━━━━━━━━━━━━━━━━━━━━━━━━━━━━━━┳━━━━━━━━━━━━━━━━━━━━━━━━┳━━━━━━━━━━━━━━━┓\n",
              "┃\u001b[1m \u001b[0m\u001b[1mLayer (type)                   \u001b[0m\u001b[1m \u001b[0m┃\u001b[1m \u001b[0m\u001b[1mOutput Shape          \u001b[0m\u001b[1m \u001b[0m┃\u001b[1m \u001b[0m\u001b[1m      Param #\u001b[0m\u001b[1m \u001b[0m┃\n",
              "┡━━━━━━━━━━━━━━━━━━━━━━━━━━━━━━━━━╇━━━━━━━━━━━━━━━━━━━━━━━━╇━━━━━━━━━━━━━━━┩\n",
              "│ embedding (\u001b[38;5;33mEmbedding\u001b[0m)           │ (\u001b[38;5;45mNone\u001b[0m, \u001b[38;5;34m500\u001b[0m, \u001b[38;5;34m128\u001b[0m)       │     \u001b[38;5;34m1,280,000\u001b[0m │\n",
              "├─────────────────────────────────┼────────────────────────┼───────────────┤\n",
              "│ conv1d (\u001b[38;5;33mConv1D\u001b[0m)                 │ (\u001b[38;5;45mNone\u001b[0m, \u001b[38;5;34m496\u001b[0m, \u001b[38;5;34m128\u001b[0m)       │        \u001b[38;5;34m82,048\u001b[0m │\n",
              "├─────────────────────────────────┼────────────────────────┼───────────────┤\n",
              "│ max_pooling1d (\u001b[38;5;33mMaxPooling1D\u001b[0m)    │ (\u001b[38;5;45mNone\u001b[0m, \u001b[38;5;34m248\u001b[0m, \u001b[38;5;34m128\u001b[0m)       │             \u001b[38;5;34m0\u001b[0m │\n",
              "├─────────────────────────────────┼────────────────────────┼───────────────┤\n",
              "│ dropout (\u001b[38;5;33mDropout\u001b[0m)               │ (\u001b[38;5;45mNone\u001b[0m, \u001b[38;5;34m248\u001b[0m, \u001b[38;5;34m128\u001b[0m)       │             \u001b[38;5;34m0\u001b[0m │\n",
              "├─────────────────────────────────┼────────────────────────┼───────────────┤\n",
              "│ global_max_pooling1d            │ (\u001b[38;5;45mNone\u001b[0m, \u001b[38;5;34m128\u001b[0m)            │             \u001b[38;5;34m0\u001b[0m │\n",
              "│ (\u001b[38;5;33mGlobalMaxPooling1D\u001b[0m)            │                        │               │\n",
              "├─────────────────────────────────┼────────────────────────┼───────────────┤\n",
              "│ dense (\u001b[38;5;33mDense\u001b[0m)                   │ (\u001b[38;5;45mNone\u001b[0m, \u001b[38;5;34m10\u001b[0m)             │         \u001b[38;5;34m1,290\u001b[0m │\n",
              "├─────────────────────────────────┼────────────────────────┼───────────────┤\n",
              "│ dense_1 (\u001b[38;5;33mDense\u001b[0m)                 │ (\u001b[38;5;45mNone\u001b[0m, \u001b[38;5;34m1\u001b[0m)              │            \u001b[38;5;34m11\u001b[0m │\n",
              "└─────────────────────────────────┴────────────────────────┴───────────────┘\n"
            ],
            "text/html": [
              "<pre style=\"white-space:pre;overflow-x:auto;line-height:normal;font-family:Menlo,'DejaVu Sans Mono',consolas,'Courier New',monospace\">┏━━━━━━━━━━━━━━━━━━━━━━━━━━━━━━━━━┳━━━━━━━━━━━━━━━━━━━━━━━━┳━━━━━━━━━━━━━━━┓\n",
              "┃<span style=\"font-weight: bold\"> Layer (type)                    </span>┃<span style=\"font-weight: bold\"> Output Shape           </span>┃<span style=\"font-weight: bold\">       Param # </span>┃\n",
              "┡━━━━━━━━━━━━━━━━━━━━━━━━━━━━━━━━━╇━━━━━━━━━━━━━━━━━━━━━━━━╇━━━━━━━━━━━━━━━┩\n",
              "│ embedding (<span style=\"color: #0087ff; text-decoration-color: #0087ff\">Embedding</span>)           │ (<span style=\"color: #00d7ff; text-decoration-color: #00d7ff\">None</span>, <span style=\"color: #00af00; text-decoration-color: #00af00\">500</span>, <span style=\"color: #00af00; text-decoration-color: #00af00\">128</span>)       │     <span style=\"color: #00af00; text-decoration-color: #00af00\">1,280,000</span> │\n",
              "├─────────────────────────────────┼────────────────────────┼───────────────┤\n",
              "│ conv1d (<span style=\"color: #0087ff; text-decoration-color: #0087ff\">Conv1D</span>)                 │ (<span style=\"color: #00d7ff; text-decoration-color: #00d7ff\">None</span>, <span style=\"color: #00af00; text-decoration-color: #00af00\">496</span>, <span style=\"color: #00af00; text-decoration-color: #00af00\">128</span>)       │        <span style=\"color: #00af00; text-decoration-color: #00af00\">82,048</span> │\n",
              "├─────────────────────────────────┼────────────────────────┼───────────────┤\n",
              "│ max_pooling1d (<span style=\"color: #0087ff; text-decoration-color: #0087ff\">MaxPooling1D</span>)    │ (<span style=\"color: #00d7ff; text-decoration-color: #00d7ff\">None</span>, <span style=\"color: #00af00; text-decoration-color: #00af00\">248</span>, <span style=\"color: #00af00; text-decoration-color: #00af00\">128</span>)       │             <span style=\"color: #00af00; text-decoration-color: #00af00\">0</span> │\n",
              "├─────────────────────────────────┼────────────────────────┼───────────────┤\n",
              "│ dropout (<span style=\"color: #0087ff; text-decoration-color: #0087ff\">Dropout</span>)               │ (<span style=\"color: #00d7ff; text-decoration-color: #00d7ff\">None</span>, <span style=\"color: #00af00; text-decoration-color: #00af00\">248</span>, <span style=\"color: #00af00; text-decoration-color: #00af00\">128</span>)       │             <span style=\"color: #00af00; text-decoration-color: #00af00\">0</span> │\n",
              "├─────────────────────────────────┼────────────────────────┼───────────────┤\n",
              "│ global_max_pooling1d            │ (<span style=\"color: #00d7ff; text-decoration-color: #00d7ff\">None</span>, <span style=\"color: #00af00; text-decoration-color: #00af00\">128</span>)            │             <span style=\"color: #00af00; text-decoration-color: #00af00\">0</span> │\n",
              "│ (<span style=\"color: #0087ff; text-decoration-color: #0087ff\">GlobalMaxPooling1D</span>)            │                        │               │\n",
              "├─────────────────────────────────┼────────────────────────┼───────────────┤\n",
              "│ dense (<span style=\"color: #0087ff; text-decoration-color: #0087ff\">Dense</span>)                   │ (<span style=\"color: #00d7ff; text-decoration-color: #00d7ff\">None</span>, <span style=\"color: #00af00; text-decoration-color: #00af00\">10</span>)             │         <span style=\"color: #00af00; text-decoration-color: #00af00\">1,290</span> │\n",
              "├─────────────────────────────────┼────────────────────────┼───────────────┤\n",
              "│ dense_1 (<span style=\"color: #0087ff; text-decoration-color: #0087ff\">Dense</span>)                 │ (<span style=\"color: #00d7ff; text-decoration-color: #00d7ff\">None</span>, <span style=\"color: #00af00; text-decoration-color: #00af00\">1</span>)              │            <span style=\"color: #00af00; text-decoration-color: #00af00\">11</span> │\n",
              "└─────────────────────────────────┴────────────────────────┴───────────────┘\n",
              "</pre>\n"
            ]
          },
          "metadata": {}
        },
        {
          "output_type": "display_data",
          "data": {
            "text/plain": [
              "\u001b[1m Total params: \u001b[0m\u001b[38;5;34m1,363,349\u001b[0m (5.20 MB)\n"
            ],
            "text/html": [
              "<pre style=\"white-space:pre;overflow-x:auto;line-height:normal;font-family:Menlo,'DejaVu Sans Mono',consolas,'Courier New',monospace\"><span style=\"font-weight: bold\"> Total params: </span><span style=\"color: #00af00; text-decoration-color: #00af00\">1,363,349</span> (5.20 MB)\n",
              "</pre>\n"
            ]
          },
          "metadata": {}
        },
        {
          "output_type": "display_data",
          "data": {
            "text/plain": [
              "\u001b[1m Trainable params: \u001b[0m\u001b[38;5;34m1,363,349\u001b[0m (5.20 MB)\n"
            ],
            "text/html": [
              "<pre style=\"white-space:pre;overflow-x:auto;line-height:normal;font-family:Menlo,'DejaVu Sans Mono',consolas,'Courier New',monospace\"><span style=\"font-weight: bold\"> Trainable params: </span><span style=\"color: #00af00; text-decoration-color: #00af00\">1,363,349</span> (5.20 MB)\n",
              "</pre>\n"
            ]
          },
          "metadata": {}
        },
        {
          "output_type": "display_data",
          "data": {
            "text/plain": [
              "\u001b[1m Non-trainable params: \u001b[0m\u001b[38;5;34m0\u001b[0m (0.00 B)\n"
            ],
            "text/html": [
              "<pre style=\"white-space:pre;overflow-x:auto;line-height:normal;font-family:Menlo,'DejaVu Sans Mono',consolas,'Courier New',monospace\"><span style=\"font-weight: bold\"> Non-trainable params: </span><span style=\"color: #00af00; text-decoration-color: #00af00\">0</span> (0.00 B)\n",
              "</pre>\n"
            ]
          },
          "metadata": {}
        }
      ],
      "source": [
        "from tensorflow.keras.models import Sequential\n",
        "from tensorflow.keras.layers import Embedding, Conv1D, MaxPooling1D, GlobalMaxPooling1D, Dense, Dropout\n",
        "\n",
        "model = Sequential([\n",
        "    Embedding(max_words, 128, input_length=maxlen),# Converts word indices into dense vectors of size 128\n",
        "\n",
        "    Conv1D(128, 5, activation='relu'), # Applies 128 filters of size 5 to extract local features\n",
        "\n",
        "    MaxPooling1D(pool_size=2),  # Downsamples the output of the convolution to reduce dimensionality\n",
        "\n",
        "    Dropout(0.5),#  Randomly drops 50% of the units to reduce overfitting\n",
        "\n",
        "    GlobalMaxPooling1D(),  # Flattens the feature maps into a single vector\n",
        "\n",
        "    Dense(10, activation='relu'),  # Fully connected layer with 10 units and ReLU activation\n",
        "\n",
        "    Dense(1, activation='sigmoid')  # Single neuron with sigmoid activation for binary classification\n",
        "\n",
        "])\n",
        "model.build(input_shape=(None, maxlen))  # explicitly build the model\n",
        "model.compile(loss='binary_crossentropy', optimizer='adam', metrics=['accuracy'])# Compile the model with binary cross-entropy loss and Adam optimizer\n",
        "\n",
        "# Display the model architecture\n",
        "model.summary()\n"
      ]
    },
    {
      "cell_type": "markdown",
      "metadata": {
        "id": "55LPIAzLPh_I"
      },
      "source": [
        " 5. Train and Evaluate"
      ]
    },
    {
      "cell_type": "code",
      "execution_count": null,
      "metadata": {
        "colab": {
          "base_uri": "https://localhost:8080/"
        },
        "id": "o_k-eAy1FlSz",
        "outputId": "a41fe356-3ed3-41ff-e5eb-6af27e8f376c"
      },
      "outputs": [
        {
          "output_type": "stream",
          "name": "stdout",
          "text": [
            "Epoch 1/2\n",
            "\u001b[1m313/313\u001b[0m \u001b[32m━━━━━━━━━━━━━━━━━━━━\u001b[0m\u001b[37m\u001b[0m \u001b[1m145s\u001b[0m 463ms/step - accuracy: 0.9671 - loss: 0.1065 - val_accuracy: 0.8992 - val_loss: 0.2609\n",
            "Epoch 2/2\n",
            "\u001b[1m313/313\u001b[0m \u001b[32m━━━━━━━━━━━━━━━━━━━━\u001b[0m\u001b[37m\u001b[0m \u001b[1m201s\u001b[0m 459ms/step - accuracy: 0.9854 - loss: 0.0518 - val_accuracy: 0.8938 - val_loss: 0.2707\n",
            "\u001b[1m782/782\u001b[0m \u001b[32m━━━━━━━━━━━━━━━━━━━━\u001b[0m\u001b[37m\u001b[0m \u001b[1m46s\u001b[0m 59ms/step - accuracy: 0.8820 - loss: 0.2825\n",
            "Test Accuracy: 0.8816400170326233\n"
          ]
        }
      ],
      "source": [
        "from tensorflow.keras.callbacks import EarlyStopping\n",
        "\n",
        "history = model.fit(\n",
        "    x_train, y_train,\n",
        "    validation_split=0.2,\n",
        "    epochs=2,\n",
        "    batch_size=64,\n",
        "    # callbacks=[EarlyStopping(monitor='val_loss', patience=2)]  # EarlyStopping was TESTED and It was removed because overfitting started around epoch 3,\n",
        "    # so training was manually limited to 2 epochs for better generalization.\n",
        ")\n",
        "# Evaluate on test set\n",
        "loss, accuracy = model.evaluate(x_test, y_test)\n",
        "print(\"Test Accuracy:\", accuracy)\n"
      ]
    },
    {
      "cell_type": "markdown",
      "metadata": {
        "id": "80-IZf8YRKZv"
      },
      "source": [
        "6. Print Some Predictions with Actual Text\n"
      ]
    },
    {
      "cell_type": "code",
      "execution_count": null,
      "metadata": {
        "colab": {
          "base_uri": "https://localhost:8080/"
        },
        "id": "GmXiBDD0FoVB",
        "outputId": "8500f475-a36a-4b10-bd2c-ff2fea75dd14"
      },
      "outputs": [
        {
          "output_type": "stream",
          "name": "stdout",
          "text": [
            "\u001b[1m782/782\u001b[0m \u001b[32m━━━━━━━━━━━━━━━━━━━━\u001b[0m\u001b[37m\u001b[0m \u001b[1m43s\u001b[0m 55ms/step\n",
            "\n",
            "--- Review #1 ---\n",
            "Review Text:\n",
            "i can't comment on the accuracy of this production historical or literary but i can say that i enjoyed it if there is a god the sound track will be released work is truly enduring twenty years on i am still moved by the haunting themes of this production and return to it frequently br br the story the entry into society of catherine somewhat awkward and possessed of an interest in gothic stories early pulp fiction catherine on bath in the company of mrs allen where she meets henry she is invited to visit the at the seat of the and somewhat challenged general who has the unfortunate that there is wealth br br where mutual attraction mixes with family is inevitable this coupled with vivid imagination leads her to fear for her safety her eventual departure is marred by and counter of deception and br br but the attraction between catherine and henry stands these trials he returns to provide a happy ending this final scene is especially compelling given the incidental music of br br it may well be a bad production from the viewpoint costumes and shaky performances not but for me it's minutes of bliss\n",
            "Actual: Positive\n",
            "Predicted: Positive\n",
            "================================================================================\n",
            "\n",
            "--- Review #2 ---\n",
            "Review Text:\n",
            "this is possibly the worst of the cockney gangster genre that has the british film industry since guy ritchie unleashed lock stock and two badly acted this true life story of who has everything that is wrong with this genre a truly awful script that consists of people cant cant and i'll kill ya ya cant ad the acting is uniformly dreadful with the two most cast members being two former soap stars quite out of their depth for some reason the film assumes we have heard of these people and i can assure you anybody north of hasn't and that we should be interested in some low story why this isn't despite the on the dvd cover the story around a football turned turned gangster who's friends end up getting shot boo the fact that these people are totally unsympathetic is the only minor plus for this film in all of the action scenes it seems that the camera was tied to a piece of string and around while people to fight and the story of somebody most people have never heard of and nothing really interesting happens too is a complete waste of time people talk about how violent the film is as though it's the sign of a great film and although many great films have violence in them this is just an excuse for the fx man to show what he can do overall this film is a reminder of why the british film industry is and the sooner we stop funding these pathetic the better\n",
            "Actual: Negative\n",
            "Predicted: Negative\n",
            "================================================================================\n",
            "\n",
            "--- Review #3 ---\n",
            "Review Text:\n",
            "this was a very faithful presentation of life in the mid 50's the dialogue on and the banter with his follow colleagues was exceptionally good michael book c s lewis creator of deals with this time frame in a very parallel way acting was superb in catching the lewis the movie took great pains to be presented in an accurate english setting the development of a strong bond between jack his preferred name lewis and douglas son from her previous marriage was enjoyable to watch the movie did avoid the element of jack's older brother drinking problem but it would not have moved the story on so it is best left out\n",
            "Actual: Positive\n",
            "Predicted: Positive\n",
            "================================================================================\n",
            "\n",
            "--- Review #4 ---\n",
            "Review Text:\n",
            "a movie theater with a bad history of past gruesome murders of course the bloody killings start written directed shot scored and edited with an appalling lack of flair and by the talentless rick sloane who later celluloid some more with the absolutely atrocious hobgoblins this ham attempt at a slasher spoof strikes out something rotten in every way the excruciatingly pacing the painfully static grainy cinematography there's a of drab master shots featured throughout an annoyingly and redundant score the flat non direction a talky and script the groan inducing sense of humor the murder set pieces a killer he's just some up old guy in make up the uniformly obnoxious and unappealing characters a abrupt ending and lifeless performances from a uninspired cast all ensure that watching this is about as fun and rewarding as eating raw with sour this totally lacks the necessary crude charm and sleazy required to be enjoyable junk instead it's just a bland plodding and meandering stiff that never catches fire or becomes even remotely amusing in a so shoddy it's smoking sort of way only a of nudity and the delightful presence of the always mary as a secretary provide a little relief from the overall of this lousy loser\n",
            "Actual: Negative\n",
            "Predicted: Negative\n",
            "================================================================================\n",
            "\n",
            "--- Review #5 ---\n",
            "Review Text:\n",
            "a man kicks a dog in the air br br a woman kicks a cow out of her bed br br a man kicks a down the sidewalk br br a woman sucks on a toe for 15 seconds br br a man kicks a blind man in the stomach br br jesus rapes a young girl br br there you have it i just saved you an hour of your life surely there are those to whom this shocking of cinematic expression would appeal but i found it no different from the videos i used to shoot with my friends in the grade except we never had a real cow br br having heard endless from beard art of how this is such an important film i thought it would be worth my time make no mistake this is crap if i hear one more person call the father of cinematic i think i'm going to punch someone if anything he a major step from the by his fritz lang metropolis f w and robert 10 years earlier this made a joke out of the whole thing as if didn't have the confidence to truly embrace the art sans sarcasm sans it would take another 40 years before he would his style into something admirable skip the early stuff and hop straight to 1970 if you want to be more impressed by his work br br i'm sure he would agree in 1977 himself stated that he would happily burn all the of his old movies in this case i would be happy to pour the lighter fluid\n",
            "Actual: Negative\n",
            "Predicted: Negative\n",
            "================================================================================\n"
          ]
        }
      ],
      "source": [
        "y_pred_prob = model.predict(x_test)# Predict probabilities for test set\n",
        "\n",
        "y_pred = (y_pred_prob > 0.5).astype(\"int32\") # Convert probabilities to binary class predictions (threshold = 0.5)\n",
        "\n",
        "index_word = {v: k for k, v in tokenizer.word_index.items()}# Create a reverse dictionary to map word indices back to words\n",
        "\n",
        "def decode_review(seq): # Function to decode a sequence of word indices back to a readable review\n",
        "    return ' '.join([index_word.get(i, '?') for i in seq if i != 0])\n",
        "\n",
        "# Print a few sample reviews with their actual and predicted labels\n",
        "for i in range(5):\n",
        "    print(f\"\\n--- Review #{i+1} ---\")\n",
        "    print(\"Review Text:\")\n",
        "    print(decode_review(x_test[i]))\n",
        "    print(\"Actual:\", \"Positive\" if y_test[i] == 1 else \"Negative\")\n",
        "    print(\"Predicted:\", \"Positive\" if y_pred[i] == 1 else \"Negative\")\n",
        "    print(\"=\"*80)"
      ]
    },
    {
      "cell_type": "markdown",
      "metadata": {
        "id": "TOibCVliRbFF"
      },
      "source": [
        "7. Evaluation metrics"
      ]
    },
    {
      "cell_type": "code",
      "execution_count": null,
      "metadata": {
        "colab": {
          "base_uri": "https://localhost:8080/",
          "height": 628
        },
        "id": "Zloxcl3SYH4T",
        "outputId": "aa970939-de42-4292-c2f2-3549f5b88cec"
      },
      "outputs": [
        {
          "output_type": "stream",
          "name": "stdout",
          "text": [
            "              precision    recall  f1-score   support\n",
            "\n",
            "    Negative       0.87      0.90      0.88     12500\n",
            "    Positive       0.90      0.86      0.88     12500\n",
            "\n",
            "    accuracy                           0.88     25000\n",
            "   macro avg       0.88      0.88      0.88     25000\n",
            "weighted avg       0.88      0.88      0.88     25000\n",
            "\n"
          ]
        },
        {
          "output_type": "display_data",
          "data": {
            "text/plain": [
              "<Figure size 640x480 with 2 Axes>"
            ],
            "image/png": "[encoded data removed]"
          },
          "metadata": {}
        }
      ],
      "source": [
        "# Import necessary libraries for evaluation and visualization\n",
        "from sklearn.metrics import classification_report, confusion_matrix\n",
        "import seaborn as sns\n",
        "import matplotlib.pyplot as plt\n",
        "\n",
        "# Print detailed classification metrics: precision, recall, f1-score for each class\n",
        "print(classification_report(y_test, y_pred, target_names=[\"Negative\", \"Positive\"]))\n",
        "\n",
        "# Compute the confusion matrix to see counts of true positives, true negatives, false positives, and false negatives\n",
        "cm = confusion_matrix(y_test, y_pred)\n",
        "\n",
        "# Visualize the confusion matrix as a heatmap with annotations\n",
        "sns.heatmap(cm, annot=True, fmt='d', cmap='Blues', xticklabels=[\"Negative\", \"Positive\"], yticklabels=[\"Negative\", \"Positive\"])\n",
        "\n",
        "# Label axes and add title to the plot\n",
        "plt.xlabel('Predicted')\n",
        "plt.ylabel('Actual')\n",
        "plt.title('Confusion Matrix')\n",
        "plt.show()\n"
      ]
    },
    {
      "cell_type": "markdown",
      "metadata": {
        "id": "ldoubQqUc2Rs"
      },
      "source": [
        " Interpretation of Evaluation:\n",
        "\n",
        " The model achieved approximately 88% accuracy on the test set, indicating good overall performance in classifying positive and negative reviews.\n",
        "\n",
        "Precision and recall scores are balanced for both classes (Positive and Negative), with slight variations:\n",
        "- Negative class: Higher recall (0.90), the model correctly identifies most negative reviews.\n",
        "- Positive class: Higher precision (0.90),  positive predictions are usually correct\n",
        "\n",
        "F1-Scores (both 0.88) reflect a good balance between precision and recall for both classes.\n",
        "\n",
        "The confusion matrix confirms most predictions are correct, with few misclassifications.\n",
        "\n",
        " Overall, the model performs well on unseen data. There is still room for improvement through further tuning, more data, or additional regularization.\n",
        "\n"
      ]
    }
  ],
  "metadata": {
    "colab": {
      "provenance": []
    },
    "kernelspec": {
      "display_name": "Python 3",
      "name": "python3"
    },
    "language_info": {
      "name": "python"
    }
  },
  "nbformat": 4,
  "nbformat_minor": 0
}